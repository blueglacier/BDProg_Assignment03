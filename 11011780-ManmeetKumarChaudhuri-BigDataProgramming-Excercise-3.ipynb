{
 "cells": [
  {
   "cell_type": "code",
   "execution_count": null,
   "metadata": {},
   "outputs": [],
   "source": [
    "import numpy as np"
   ]
  },
  {
   "cell_type": "code",
   "execution_count": null,
   "metadata": {},
   "outputs": [],
   "source": [
    "#Exercise 1\n",
    "arr=np.array([0,1,2,3,4,5,6,7,8,9])\n",
    "print(arr)\n",
    "arr[1::2]=arr[::2]*0-1\n",
    "#arr = [(arr[i] if (i%2 == 0) else -1) for i in range(len(arr))]\n",
    "print(arr)"
   ]
  },
  {
   "cell_type": "code",
   "execution_count": null,
   "metadata": {},
   "outputs": [],
   "source": [
    "#Exercise 2\n",
    "arr=np.arange(10)\n",
    "print(arr)\n",
    "arr = np.reshape(arr,(-1,5))\n",
    "print(arr)"
   ]
  },
  {
   "cell_type": "code",
   "execution_count": null,
   "metadata": {},
   "outputs": [],
   "source": [
    "#Exercise 3\n",
    "np.set_printoptions(threshold=1000)\n",
    "arr=np.array([1,2,3])\n",
    "print(arr)\n",
    "abc=np.concatenate((np.repeat(arr,3),np.tile(arr,3)))\n",
    "print(abc)"
   ]
  },
  {
   "cell_type": "code",
   "execution_count": null,
   "metadata": {},
   "outputs": [],
   "source": [
    "#Exercise 4\n",
    "a=np.array([1,2,3,2,3,4,3,4,5,6])\n",
    "b=np.array([7,2,10,2,7,4,9,4,9,8])\n",
    "c=np.array([i for i in a if i in b])\n",
    "output=np.unique(c)\n",
    "print(output)"
   ]
  },
  {
   "cell_type": "code",
   "execution_count": null,
   "metadata": {},
   "outputs": [],
   "source": [
    "#Exercise 5\n",
    "a=np.array([1,2,3,2,3,4,3,4,5,6])\n",
    "b=np.array([7,2,10,2,7,4,9,4,9,8])\n",
    "c=np.nonzero(np.in1d(a,b))[0]\n",
    "print(c)"
   ]
  },
  {
   "cell_type": "code",
   "execution_count": null,
   "metadata": {},
   "outputs": [],
   "source": [
    "#Exercise 6\n",
    "np.random.uniform(5,10,(5, 3))"
   ]
  },
  {
   "cell_type": "code",
   "execution_count": null,
   "metadata": {},
   "outputs": [],
   "source": [
    "#Exercise 7\n",
    "arr=np.arange(15)\n",
    "np.set_printoptions(threshold=5)\n",
    "print(arr)"
   ]
  },
  {
   "cell_type": "code",
   "execution_count": null,
   "metadata": {},
   "outputs": [],
   "source": [
    "#Exercise 8\n",
    "np.random.seed(100)\n",
    "rand_arr=np.random.random([3,3])/1e3\n",
    "np.set_printoptions(suppress=True)\n",
    "np.set_printoptions(precision=6)\n",
    "print(rand_arr)"
   ]
  },
  {
   "cell_type": "code",
   "execution_count": null,
   "metadata": {},
   "outputs": [],
   "source": [
    "#Exercise 9\n",
    "arr=np.arange(9).reshape(3,3)\n",
    "print(arr)\n",
    "col1 = 0\n",
    "col2 = 1    \n",
    "arr.T[[col1, col2]] = arr.T[[col2, col1]]\n",
    "print(arr)"
   ]
  },
  {
   "cell_type": "code",
   "execution_count": null,
   "metadata": {},
   "outputs": [],
   "source": [
    "#Exercise 10\n",
    "arr=np.arange(9).reshape(3,3)\n",
    "print(arr)\n",
    "arr[[0, 1]] = arr[[1, 0]]\n",
    "print(arr)"
   ]
  }
 ],
 "metadata": {
  "kernelspec": {
   "display_name": "Python 3",
   "language": "python",
   "name": "python3"
  },
  "language_info": {
   "codemirror_mode": {
    "name": "ipython",
    "version": 3
   },
   "file_extension": ".py",
   "mimetype": "text/x-python",
   "name": "python",
   "nbconvert_exporter": "python",
   "pygments_lexer": "ipython3",
   "version": "3.6.5"
  }
 },
 "nbformat": 4,
 "nbformat_minor": 2
}
